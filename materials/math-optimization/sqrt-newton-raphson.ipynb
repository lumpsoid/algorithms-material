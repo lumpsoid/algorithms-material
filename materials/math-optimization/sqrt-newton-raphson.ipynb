{
 "cells": [
  {
   "cell_type": "code",
   "execution_count": null,
   "metadata": {},
   "outputs": [],
   "source": [
    "def sqrt_newton_raphson(a, x0=1, epsilon=1e-6, max_iter=10):\n",
    "    \"\"\"\n",
    "    Возвращает приближенное значение квадратного корня числа a с заданной точностью epsilon\n",
    "    и максимальным числом итераций max_iter с использованием метода Ньютона-Рафсона\n",
    "    и начальным приближением x0.\n",
    "    \"\"\"\n",
    "    x = x0\n",
    "    for i in range(max_iter):\n",
    "        x = (x + a / x) / 2  # вычисляем следующее приближенное значение корня\n",
    "        if abs(x**2 - a) < epsilon:  # проверяем достигнута ли заданная точность\n",
    "            return x\n",
    "    return x  # возвращаем последнее найденное значение корня\n"
   ]
  }
 ],
 "metadata": {
  "language_info": {
   "name": "python"
  }
 },
 "nbformat": 4,
 "nbformat_minor": 2
}
