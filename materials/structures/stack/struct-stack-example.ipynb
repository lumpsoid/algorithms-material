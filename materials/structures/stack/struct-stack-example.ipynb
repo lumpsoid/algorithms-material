{
 "cells": [
  {
   "cell_type": "code",
   "execution_count": null,
   "metadata": {},
   "outputs": [],
   "source": [
    "def empty_check(func):\n",
    "    def wrapper(self, *args, **kwargs):\n",
    "        if len(self.data) == 0:\n",
    "            raise StackIsEmptyError(\"Stack is empty. Cannot perform the operation on an empty stack.\")\n",
    "        return func(self, *args, **kwargs)\n",
    "    return wrapper\n",
    "\n",
    "\n",
    "class StackIsEmptyError(Exception):\n",
    "    pass\n",
    "\n",
    "\n",
    "class Stack:\n",
    "    def __init__(self):\n",
    "        self.data = []\n",
    "    \n",
    "\n",
    "    def add(self, data):\n",
    "        self.data.append(data)\n",
    "    \n",
    "\n",
    "    @empty_check\n",
    "    def delete(self):\n",
    "        return self.data.pop()\n",
    "    \n",
    "\n",
    "    def size(self):\n",
    "        return len(self.data)\n",
    "    \n",
    "\n",
    "    @empty_check\n",
    "    def peek(self):\n",
    "        return self.data[-1]"
   ]
  }
 ],
 "metadata": {
  "language_info": {
   "name": "python"
  },
  "orig_nbformat": 4
 },
 "nbformat": 4,
 "nbformat_minor": 2
}
