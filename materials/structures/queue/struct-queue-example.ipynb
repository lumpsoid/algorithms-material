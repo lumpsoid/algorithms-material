{
 "cells": [
  {
   "cell_type": "code",
   "execution_count": null,
   "metadata": {},
   "outputs": [],
   "source": [
    "def check_queue_empty(func):\n",
    "    def wrapper(self, *args, **kwargs):\n",
    "        if len(self.data) == 0:\n",
    "            raise EmptyQueueError('Queue is empty. Cannot perform the operation on the empty queue')\n",
    "        return func(self, *args, **kwargs)\n",
    "    return wrapper\n",
    "\n",
    "\n",
    "class EmptyQueueError(Exception):\n",
    "    pass\n",
    "\n",
    "\n",
    "class Queue:\n",
    "    def __init__(self):\n",
    "        self.data = []\n",
    "    \n",
    "\n",
    "    def add(self, data):\n",
    "        self.data.append(data)\n",
    "    \n",
    "    \n",
    "    @check_queue_empty\n",
    "    def delete(self):\n",
    "        return self.data.pop(0)\n",
    "    \n",
    "\n",
    "    @check_queue_empty\n",
    "    def peek(self):\n",
    "        return self.data[0]\n",
    "    \n",
    "\n",
    "    def size(self):\n",
    "        return len(self.data)"
   ]
  }
 ],
 "metadata": {
  "language_info": {
   "name": "python"
  },
  "orig_nbformat": 4
 },
 "nbformat": 4,
 "nbformat_minor": 2
}
