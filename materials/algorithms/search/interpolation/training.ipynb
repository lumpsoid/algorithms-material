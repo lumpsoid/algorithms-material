{
 "cells": [
  {
   "cell_type": "code",
   "execution_count": null,
   "metadata": {},
   "outputs": [],
   "source": [
    "def interpolation_search(arr: list, x: int) -> int:\n",
    "    lo = 0\n",
    "    hi = len(arr) - 1\n",
    "    while lo <= hi and x >= arr[lo] and x <= arr[hi]:\n",
    "        pos = lo + int(((float(hi - lo) / (arr[hi] - arr[lo])) * (x - arr[lo])))\n",
    "        if arr[pos] == x:\n",
    "            return pos\n",
    "        elif arr[pos] < x:\n",
    "            lo = pos + 1\n",
    "        else:\n",
    "            hi = pos - 1\n",
    "    return -1"
   ]
  }
 ],
 "metadata": {
  "language_info": {
   "name": "python"
  }
 },
 "nbformat": 4,
 "nbformat_minor": 2
}
