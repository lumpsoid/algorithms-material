{
 "cells": [
  {
   "cell_type": "code",
   "execution_count": 66,
   "metadata": {},
   "outputs": [],
   "source": [
    "import time\n",
    "import numpy as np\n",
    "from typing import List"
   ]
  },
  {
   "cell_type": "code",
   "execution_count": 68,
   "metadata": {},
   "outputs": [],
   "source": [
    "def containsDuplicate(nums: List[int]) -> bool:\n",
    "  dup = set(nums)\n",
    "  \n",
    "  if len(dup) == len(nums):\n",
    "    return False\n",
    "  return True\n",
    "\n",
    "def containsDuplicateLoop(nums: List[int]) -> bool:\n",
    "  dup = set()\n",
    "  \n",
    "  for num in nums:\n",
    "    if num in dup:\n",
    "      return True\n",
    "    dup.add(num)\n",
    "  return False\n",
    "\n",
    "def test_func(times, func, nums: List[int]):\n",
    "  func(nums)\n",
    "  average_time = np.array([])\n",
    "  \n",
    "  for i in range(times):\n",
    "    start_time = time.time()\n",
    "    func(nums)\n",
    "    average_time = np.append(average_time, time.time() - start_time)\n",
    "  print('Elapsed time average:', np.mean(average_time))"
   ]
  },
  {
   "cell_type": "code",
   "execution_count": 101,
   "metadata": {},
   "outputs": [
    {
     "name": "stdout",
     "output_type": "stream",
     "text": [
      "Elapsed time average: 1.924707889556885e-06\n"
     ]
    }
   ],
   "source": [
    "nums = [1,2,3,4,5]\n",
    "test_func(100000, containsDuplicateLoop, nums)"
   ]
  },
  {
   "cell_type": "code",
   "execution_count": 102,
   "metadata": {},
   "outputs": [
    {
     "name": "stdout",
     "output_type": "stream",
     "text": [
      "Elapsed time average: 1.810934543609619e-06\n"
     ]
    }
   ],
   "source": [
    "nums = [1,2,3,4,5]\n",
    "test_func(100000, containsDuplicate, nums)"
   ]
  }
 ],
 "metadata": {
  "kernelspec": {
   "display_name": "casual",
   "language": "python",
   "name": "python3"
  },
  "language_info": {
   "codemirror_mode": {
    "name": "ipython",
    "version": 3
   },
   "file_extension": ".py",
   "mimetype": "text/x-python",
   "name": "python",
   "nbconvert_exporter": "python",
   "pygments_lexer": "ipython3",
   "version": "3.12.0"
  }
 },
 "nbformat": 4,
 "nbformat_minor": 2
}
