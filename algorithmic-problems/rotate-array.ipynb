{
 "cells": [
  {
   "cell_type": "code",
   "execution_count": 1,
   "metadata": {},
   "outputs": [],
   "source": [
    "# Rotate Array\n",
    "def rotate(nums, k):\n",
    "    n = len(nums)\n",
    "    # To handle cases where k is larger\n",
    "    # than the length of the array\n",
    "    k = k % n\n",
    "\n",
    "    # Reverse the entire array\n",
    "    reverse(nums, 0, n - 1)\n",
    "    \n",
    "    # Reverse the first k elements\n",
    "    reverse(nums, 0, k - 1)\n",
    "\n",
    "    # Reverse the remaining elements\n",
    "    reverse(nums, k, n - 1)\n",
    "\n",
    "def reverse(nums, start, end):\n",
    "    while start < end:\n",
    "        nums[start], nums[end] = nums[end], nums[start]\n",
    "        start += 1\n",
    "        end -= 1"
   ]
  },
  {
   "cell_type": "code",
   "execution_count": 2,
   "metadata": {},
   "outputs": [
    {
     "name": "stdout",
     "output_type": "stream",
     "text": [
      "Example 1: [5, 6, 7, 1, 2, 3, 4]\n"
     ]
    }
   ],
   "source": [
    "# Example 1\n",
    "nums1 = [1, 2, 3, 4, 5, 6, 7]\n",
    "k1 = 3\n",
    "rotate(nums1, k1)\n",
    "print(\"Example 1:\", nums1)"
   ]
  },
  {
   "cell_type": "code",
   "execution_count": null,
   "metadata": {},
   "outputs": [],
   "source": [
    "# Example 2\n",
    "nums2 = [-1, -100, 3, 99]\n",
    "k2 = 2\n",
    "rotate(nums2, k2)\n",
    "print(\"Example 2:\", nums2)"
   ]
  }
 ],
 "metadata": {
  "kernelspec": {
   "display_name": "casual",
   "language": "python",
   "name": "python3"
  },
  "language_info": {
   "codemirror_mode": {
    "name": "ipython",
    "version": 3
   },
   "file_extension": ".py",
   "mimetype": "text/x-python",
   "name": "python",
   "nbconvert_exporter": "python",
   "pygments_lexer": "ipython3",
   "version": "3.12.0"
  }
 },
 "nbformat": 4,
 "nbformat_minor": 2
}
